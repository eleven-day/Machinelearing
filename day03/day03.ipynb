{
 "cells": [
  {
   "cell_type": "code",
   "execution_count": 23,
   "metadata": {},
   "outputs": [
    {
     "name": "stdout",
     "output_type": "stream",
     "text": [
      "权重系数为:\n",
      " [-0.13686699  0.05270596 -0.03816225  0.09173295 -0.0139322   0.0692684\n",
      " -0.34333184 -0.02797077  0.01860695  0.19513291 -0.0427946  -0.15794754\n",
      " -0.22704706]\n",
      "偏置为:\n",
      " 0.9022556390977459\n",
      "预测值：\n",
      " [ 1.26330144  1.5768699   1.88983766  1.81169898  0.12086028  1.15568116\n",
      "  0.431029    0.99125708  0.92692824  1.20287638  0.71551459  1.35369326\n",
      "  0.02043695 -0.42441421  1.44452934  0.2453631   0.17580362 -0.01245\n",
      "  2.04254952  2.07960178  0.43840394  1.18108579  1.85917402  1.29592586\n",
      "  1.35628134  1.57804477  0.38473194  1.37935049  2.0601873   2.03957839\n",
      "  0.60149596  0.87213331  1.38822962  1.15563538 -0.27441033  1.798635\n",
      "  2.03167026  0.13579674  1.61324523  0.69993905  1.54519956  1.10526945\n",
      " -0.00717618  0.16239177  2.01706712]\n",
      "0.0867001792039297\n"
     ]
    }
   ],
   "source": [
    "#正规方程\n",
    "\n",
    "from sklearn.datasets import load_wine\n",
    "from sklearn.model_selection import train_test_split\n",
    "from sklearn.preprocessing import StandardScaler\n",
    "from sklearn.linear_model import LinearRegression\n",
    "from sklearn.metrics import mean_squared_error\n",
    "\n",
    "wine = load_wine()\n",
    "\n",
    "x_train,x_test,y_train,y_test = train_test_split(wine.data,wine.target,random_state=22)\n",
    "\n",
    "transfer = StandardScaler()\n",
    "x_train = transfer.fit_transform(x_train)\n",
    "x_test = transfer.transform(x_test)\n",
    "\n",
    "estimator = LinearRegression()\n",
    "estimator.fit(x_train,y_train)\n",
    "\n",
    "print(\"权重系数为:\\n\",estimator.coef_)\n",
    "print(\"偏置为:\\n\",estimator.intercept_)\n",
    "\n",
    "y_predict = estimator.predict(x_test)\n",
    "print(\"预测值：\\n\",y_predict)\n",
    "error = mean_squared_error(y_test,y_predict)\n",
    "print(error)\n"
   ]
  },
  {
   "cell_type": "code",
   "execution_count": 24,
   "metadata": {},
   "outputs": [
    {
     "name": "stdout",
     "output_type": "stream",
     "text": [
      "权重系数为:\n",
      " [-0.11032378  0.04306089 -0.05231554  0.1095981  -0.00685045 -0.04335859\n",
      " -0.19544914  0.00480264  0.01249749  0.15065501 -0.09137143 -0.17647276\n",
      " -0.19652841]\n",
      "偏置为:\n",
      " [0.8870288]\n",
      "预测值：\n",
      " [ 1.26000164  1.55615566  1.99188811  1.81579402  0.14732588  1.19009332\n",
      "  0.50761705  0.96982619  0.96906992  1.359388    0.62935581  1.30477252\n",
      "  0.06041015 -0.35989567  1.50073341  0.20358521  0.22734469 -0.05240641\n",
      "  1.98556168  2.04169815  0.35050475  0.91294611  1.82715188  1.17759448\n",
      "  1.37594327  1.65608101  0.41618063  1.22216343  2.00792464  2.00269987\n",
      "  0.53302904  0.62751483  1.46051993  1.20190504 -0.24859496  1.78198754\n",
      "  2.10605537  0.16106671  1.64219426  0.71223163  1.4520537   1.01665814\n",
      " -0.02654837  0.10294966  1.95766417]\n",
      "0.09365043584957548\n"
     ]
    }
   ],
   "source": [
    "#梯度下降\n",
    "\n",
    "from sklearn.datasets import load_wine\n",
    "from sklearn.model_selection import train_test_split\n",
    "from sklearn.preprocessing import StandardScaler\n",
    "from sklearn.linear_model import SGDRegressor\n",
    "\n",
    "wine = load_wine()\n",
    "\n",
    "x_train,x_test,y_train,y_test = train_test_split(wine.data,wine.target,random_state=22)\n",
    "\n",
    "transfer = StandardScaler()\n",
    "x_train = transfer.fit_transform(x_train)\n",
    "x_test = transfer.transform(x_test)\n",
    "\n",
    "estimator = SGDRegressor()\n",
    "estimator.fit(x_train,y_train)\n",
    "\n",
    "print(\"权重系数为:\\n\",estimator.coef_)\n",
    "print(\"偏置为:\\n\",estimator.intercept_)\n",
    "\n",
    "y_predict = estimator.predict(x_test)\n",
    "print(\"预测值：\\n\",y_predict)\n",
    "error = mean_squared_error(y_test,y_predict)\n",
    "print(error)"
   ]
  },
  {
   "cell_type": "code",
   "execution_count": 25,
   "metadata": {},
   "outputs": [
    {
     "name": "stdout",
     "output_type": "stream",
     "text": [
      "权重系数为:\n",
      " [-0.13424998  0.05223786 -0.03904097  0.09220685 -0.01350979  0.05789367\n",
      " -0.32728926 -0.0244876   0.01722014  0.19104637 -0.04669116 -0.15980371\n",
      " -0.22466151]\n",
      "偏置为:\n",
      " 0.9022556390977459\n",
      "预测值：\n",
      " [ 1.26532761  1.57578309  1.89934115  1.81314704  0.12407758  1.15957238\n",
      "  0.44073451  0.9910179   0.93630693  1.21933116  0.71114489  1.35259403\n",
      "  0.02548632 -0.41231911  1.45306768  0.24438794  0.18291301 -0.0132224\n",
      "  2.03772378  2.07593437  0.42682445  1.15779545  1.85725133  1.28163025\n",
      "  1.3588545   1.58372206  0.38896645  1.3666821   2.05557659  2.03539512\n",
      "  0.59792846  0.84684842  1.39572595  1.16261428 -0.27015801  1.79534064\n",
      "  2.03960158  0.13988     1.6169379   0.70404205  1.53768819  1.09730789\n",
      " -0.00395607  0.16098806  2.01044258]\n",
      "0.0870363014436778\n"
     ]
    }
   ],
   "source": [
    "#岭回归\n",
    "\n",
    "from sklearn.datasets import load_wine\n",
    "from sklearn.model_selection import train_test_split\n",
    "from sklearn.preprocessing import StandardScaler\n",
    "from sklearn.linear_model import Ridge\n",
    "\n",
    "wine = load_wine()\n",
    "\n",
    "x_train,x_test,y_train,y_test = train_test_split(wine.data,wine.target,random_state=22)\n",
    "\n",
    "transfer = StandardScaler()\n",
    "x_train = transfer.fit_transform(x_train)\n",
    "x_test = transfer.transform(x_test)\n",
    "\n",
    "estimator = Ridge()\n",
    "estimator.fit(x_train,y_train)\n",
    "\n",
    "print(\"权重系数为:\\n\",estimator.coef_)\n",
    "print(\"偏置为:\\n\",estimator.intercept_)\n",
    "\n",
    "y_predict = estimator.predict(x_test)\n",
    "print(\"预测值：\\n\",y_predict)\n",
    "error = mean_squared_error(y_test,y_predict)\n",
    "print(error)"
   ]
  },
  {
   "cell_type": "code",
   "execution_count": 14,
   "metadata": {},
   "outputs": [
    {
     "name": "stdout",
     "output_type": "stream",
     "text": [
      "[[-0.24577396 -0.16190769 -0.2359578  -0.27740515 -0.30419083  0.51978601\n",
      "  -0.68720069 -0.86260334  0.19229479  0.46030481 -1.30300543  0.258325\n",
      "  -0.63160006 -0.8937076  -0.19025295  0.65719064  0.16950583 -0.4412615\n",
      "   0.32737691  0.59204069 -0.95013737 -1.32694094 -0.69812803 -0.86018589\n",
      "  -0.69870178 -0.09116283 -0.72590677 -0.94405228 -0.90139348 -0.31263009]]\n",
      "[0.34904265]\n",
      "预测值：\n",
      " [0 1 1 0 1 1 0 1 0 1 1 0 1 0 1 1 1 1 1 1 1 0 0 1 1 1 0 0 1 1 1 1 0 1 1 0 1\n",
      " 0 1 0 1 0 1 0 0 1 0 0 1 1 1 1 1 1 0 1 1 1 1 0 1 1 1 0 1 0 1 1 0 1 0 1 0 1\n",
      " 1 1 0 1 0 0 1 1 0 1 0 1 1 1 1 0 1 1 0 0 1 1 1 0 1 1 1 1 1 1 1 1 1 1 0 1 0\n",
      " 0 1 0 1 1 1 0 1 0 0 0 1 0 1 0 1 0 1 1 0 1 1 1 0 0 0 1 0 1 0 0 0]\n",
      "[ True  True  True  True  True  True  True  True  True  True  True  True\n",
      "  True  True  True  True  True  True  True  True  True  True  True  True\n",
      "  True  True  True  True  True  True  True  True  True  True  True  True\n",
      "  True  True  True  True  True  True  True  True  True  True  True  True\n",
      "  True  True  True  True  True  True  True  True  True  True  True  True\n",
      "  True  True  True  True  True  True  True  True  True  True  True  True\n",
      "  True  True  True  True  True  True  True  True  True  True  True  True\n",
      "  True  True  True  True  True  True  True  True  True  True  True  True\n",
      "  True  True  True  True  True  True  True  True  True  True  True  True\n",
      "  True  True  True  True  True  True  True  True  True  True  True  True\n",
      "  True  True  True  True  True  True  True  True  True  True  True  True\n",
      "  True  True  True  True  True  True  True  True  True  True  True]\n",
      "1.0\n"
     ]
    }
   ],
   "source": [
    "#逻辑回归\n",
    "\n",
    "from sklearn.datasets import load_breast_cancer\n",
    "from sklearn.model_selection import train_test_split\n",
    "from sklearn.preprocessing import StandardScaler\n",
    "from sklearn.linear_model import LogisticRegression\n",
    "import joblib\n",
    "\n",
    "breast = load_breast_cancer()\n",
    "\n",
    "x_train, x_test, y_train, y_test = train_test_split(breast.data,breast.target)\n",
    "\n",
    "transfer = StandardScaler()\n",
    "x_train = transfer.fit_transform(x_train)\n",
    "x_test = transfer.transform(x_test)\n",
    "\n",
    "estimator = LogisticRegression()\n",
    "estimator.fit(x_train,y_train)\n",
    "\n",
    "joblib.dump(estimator,'my_ridge.pkl')\n",
    "\n",
    "print(estimator.coef_)\n",
    "print(estimator.intercept_)\n",
    "\n",
    "y_predict = estimator.predict(x_test)\n",
    "print(\"预测值：\\n\",y_predict)\n",
    "print(y_test == y_predict)\n",
    "\n",
    "score = estimator.score(x_test,y_test)\n",
    "print(score)\n"
   ]
  },
  {
   "cell_type": "code",
   "execution_count": 12,
   "metadata": {},
   "outputs": [
    {
     "name": "stdout",
     "output_type": "stream",
     "text": [
      "              precision    recall  f1-score   support\n",
      "\n",
      "           0       1.00      1.00      1.00        50\n",
      "           1       1.00      1.00      1.00        93\n",
      "\n",
      "    accuracy                           1.00       143\n",
      "   macro avg       1.00      1.00      1.00       143\n",
      "weighted avg       1.00      1.00      1.00       143\n",
      "\n"
     ]
    }
   ],
   "source": [
    "from sklearn.metrics import classification_report\n",
    "\n",
    "print(classification_report(y_test,y_predict))"
   ]
  },
  {
   "cell_type": "code",
   "execution_count": 16,
   "metadata": {},
   "outputs": [
    {
     "name": "stdout",
     "output_type": "stream",
     "text": [
      "LogisticRegression()\n"
     ]
    }
   ],
   "source": [
    "estimator = joblib.load('my_ridge.pkl')\n",
    "print(estimator)"
   ]
  },
  {
   "cell_type": "code",
   "execution_count": null,
   "metadata": {},
   "outputs": [],
   "source": []
  }
 ],
 "metadata": {
  "kernelspec": {
   "display_name": "Python 3",
   "language": "python",
   "name": "python3"
  },
  "language_info": {
   "codemirror_mode": {
    "name": "ipython",
    "version": 3
   },
   "file_extension": ".py",
   "mimetype": "text/x-python",
   "name": "python",
   "nbconvert_exporter": "python",
   "pygments_lexer": "ipython3",
   "version": "3.10.9"
  },
  "orig_nbformat": 4,
  "vscode": {
   "interpreter": {
    "hash": "df8f00dd8ea7b191efb4b3f40f1de1f35d3a339e703b43ac54152176488b2ac1"
   }
  }
 },
 "nbformat": 4,
 "nbformat_minor": 2
}
